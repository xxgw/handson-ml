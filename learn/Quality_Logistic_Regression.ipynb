{
 "cells": [
  {
   "cell_type": "code",
   "execution_count": 798,
   "metadata": {
    "collapsed": true
   },
   "outputs": [],
   "source": [
    "import os\n",
    "import pandas as pd\n",
    "import numpy as np\n",
    "from sklearn.linear_model import LogisticRegression\n",
    "from sklearn.metrics import accuracy_score\n",
    "from sklearn.model_selection import train_test_split\n",
    "from sklearn.preprocessing import StandardScaler\n",
    "from sklearn.externals import joblib"
   ]
  },
  {
   "cell_type": "code",
   "execution_count": 799,
   "metadata": {
    "collapsed": true
   },
   "outputs": [],
   "source": [
    "QUALITY_PATH = os.path.join(\"..\\datasets\", \"quality\")\n",
    "cvs_path = os.path.join(QUALITY_PATH, \"quality-20181120.csv\")\n",
    "quality = pd.read_csv(cvs_path, encoding=\"gbk\")"
   ]
  },
  {
   "cell_type": "code",
   "execution_count": 800,
   "metadata": {},
   "outputs": [
    {
     "data": {
      "text/html": [
       "<div>\n",
       "<style>\n",
       "    .dataframe thead tr:only-child th {\n",
       "        text-align: right;\n",
       "    }\n",
       "\n",
       "    .dataframe thead th {\n",
       "        text-align: left;\n",
       "    }\n",
       "\n",
       "    .dataframe tbody tr th {\n",
       "        vertical-align: top;\n",
       "    }\n",
       "</style>\n",
       "<table border=\"1\" class=\"dataframe\">\n",
       "  <thead>\n",
       "    <tr style=\"text-align: right;\">\n",
       "      <th></th>\n",
       "      <th>开发工时</th>\n",
       "      <th>测试工时</th>\n",
       "      <th>SIT缺陷</th>\n",
       "      <th>UAT缺陷</th>\n",
       "      <th>项目缺陷密度</th>\n",
       "      <th>开发缺陷密度</th>\n",
       "      <th>SIT缺陷遗漏率</th>\n",
       "      <th>验收年份</th>\n",
       "      <th>生产事件</th>\n",
       "      <th>Quality</th>\n",
       "    </tr>\n",
       "  </thead>\n",
       "  <tbody>\n",
       "    <tr>\n",
       "      <th>0</th>\n",
       "      <td>12917.5</td>\n",
       "      <td>267.5</td>\n",
       "      <td>20</td>\n",
       "      <td>0</td>\n",
       "      <td>0.013483</td>\n",
       "      <td>0.151389</td>\n",
       "      <td>0.090909</td>\n",
       "      <td>2018</td>\n",
       "      <td>2</td>\n",
       "      <td>1</td>\n",
       "    </tr>\n",
       "    <tr>\n",
       "      <th>1</th>\n",
       "      <td>9518.0</td>\n",
       "      <td>3771.0</td>\n",
       "      <td>59</td>\n",
       "      <td>3</td>\n",
       "      <td>0.030100</td>\n",
       "      <td>0.661904</td>\n",
       "      <td>0.063492</td>\n",
       "      <td>2018</td>\n",
       "      <td>1</td>\n",
       "      <td>0</td>\n",
       "    </tr>\n",
       "    <tr>\n",
       "      <th>2</th>\n",
       "      <td>6605.0</td>\n",
       "      <td>3267.0</td>\n",
       "      <td>96</td>\n",
       "      <td>0</td>\n",
       "      <td>0.010130</td>\n",
       "      <td>1.468584</td>\n",
       "      <td>0.010309</td>\n",
       "      <td>2018</td>\n",
       "      <td>1</td>\n",
       "      <td>0</td>\n",
       "    </tr>\n",
       "    <tr>\n",
       "      <th>3</th>\n",
       "      <td>6509.5</td>\n",
       "      <td>1074.5</td>\n",
       "      <td>51</td>\n",
       "      <td>5</td>\n",
       "      <td>0.105485</td>\n",
       "      <td>0.906368</td>\n",
       "      <td>0.135593</td>\n",
       "      <td>2017</td>\n",
       "      <td>3</td>\n",
       "      <td>1</td>\n",
       "    </tr>\n",
       "    <tr>\n",
       "      <th>4</th>\n",
       "      <td>41987.0</td>\n",
       "      <td>5508.5</td>\n",
       "      <td>123</td>\n",
       "      <td>5</td>\n",
       "      <td>0.021055</td>\n",
       "      <td>0.316765</td>\n",
       "      <td>0.075188</td>\n",
       "      <td>2018</td>\n",
       "      <td>5</td>\n",
       "      <td>1</td>\n",
       "    </tr>\n",
       "  </tbody>\n",
       "</table>\n",
       "</div>"
      ],
      "text/plain": [
       "      开发工时    测试工时  SIT缺陷  UAT缺陷    项目缺陷密度    开发缺陷密度  SIT缺陷遗漏率  验收年份  生产事件  \\\n",
       "0  12917.5   267.5     20      0  0.013483  0.151389  0.090909  2018     2   \n",
       "1   9518.0  3771.0     59      3  0.030100  0.661904  0.063492  2018     1   \n",
       "2   6605.0  3267.0     96      0  0.010130  1.468584  0.010309  2018     1   \n",
       "3   6509.5  1074.5     51      5  0.105485  0.906368  0.135593  2017     3   \n",
       "4  41987.0  5508.5    123      5  0.021055  0.316765  0.075188  2018     5   \n",
       "\n",
       "   Quality  \n",
       "0        1  \n",
       "1        0  \n",
       "2        0  \n",
       "3        1  \n",
       "4        1  "
      ]
     },
     "execution_count": 800,
     "metadata": {},
     "output_type": "execute_result"
    }
   ],
   "source": [
    "quality.head()"
   ]
  },
  {
   "cell_type": "code",
   "execution_count": 801,
   "metadata": {},
   "outputs": [],
   "source": [
    "#对数据集进行标准化\n",
    "ss = StandardScaler()\n",
    "x = quality.drop([\"Quality\", \"生产事件\"], axis = 1)\n",
    "y = quality[\"Quality\"].copy()\n",
    "x_regular = ss.fit_transform(x)"
   ]
  },
  {
   "cell_type": "code",
   "execution_count": 802,
   "metadata": {
    "collapsed": true
   },
   "outputs": [],
   "source": [
    "## 划分训练集与测试集\n",
    "X_train, X_test, y_train, y_test = train_test_split(x, y, test_size=0.2)"
   ]
  },
  {
   "cell_type": "code",
   "execution_count": 803,
   "metadata": {},
   "outputs": [
    {
     "name": "stdout",
     "output_type": "stream",
     "text": [
      "准确率: 0.888888888889\n"
     ]
    }
   ],
   "source": [
    "lr_model=LogisticRegression()\n",
    "lr_model.fit(X_train,y_train)\n",
    "r = lr_model.score(X_test, y_test)\n",
    "print(\"准确率:\", r)"
   ]
  },
  {
   "cell_type": "code",
   "execution_count": 804,
   "metadata": {},
   "outputs": [
    {
     "name": "stdout",
     "output_type": "stream",
     "text": [
      "       开发工时     测试工时  SIT缺陷  UAT缺陷    项目缺陷密度    开发缺陷密度  SIT缺陷遗漏率  验收年份\n",
      "2    6605.0   3267.0     96      0  0.010130  1.468584  0.010309  2018\n",
      "13  18929.2   6259.0    107      7  0.063522  0.649790  0.130081  2017\n",
      "30  13944.5   5233.5    286     27  0.187715  2.309154  0.111801  2017\n",
      "29  11902.0   2460.5    174     26  0.222802  1.730802  0.155340  2017\n",
      "16  12499.5   2980.5    156     39  0.310078  1.632065  0.235294  2017\n",
      "5   26324.1   5533.8    142      9  0.029771  0.547644  0.065789  2018\n",
      "22  31298.2  12137.5    248     20  0.055254  0.869060  0.088235  2018\n",
      "6   48957.0   5331.0    192      4  0.025788  0.420777  0.067961  2018\n",
      "25   3340.0    940.0     22      0  0.023364  0.688623  0.043478  2017\n",
      "[[  8.18809146e-01   1.81190854e-01]\n",
      " [  5.77598354e-02   9.42240165e-01]\n",
      " [  1.39749439e-01   8.60250561e-01]\n",
      " [  9.61674820e-02   9.03832518e-01]\n",
      " [  4.06373472e-03   9.95936265e-01]\n",
      " [  4.49582289e-02   9.55041771e-01]\n",
      " [  8.47191489e-04   9.99152809e-01]\n",
      " [  1.90522996e-02   9.80947700e-01]\n",
      " [  8.35138461e-01   1.64861539e-01]]\n",
      "2     0\n",
      "13    1\n",
      "30    1\n",
      "29    1\n",
      "16    1\n",
      "5     0\n",
      "22    1\n",
      "6     1\n",
      "25    0\n",
      "Name: Quality, dtype: int64\n",
      "[0 1 1 1 1 1 1 1 0]\n"
     ]
    }
   ],
   "source": [
    "print(X_test)\n",
    "y_pred_proba=lr_model.predict_proba(X_test)\n",
    "print(y_pred_proba)\n",
    "y_pred=lr_model.predict(X_test)\n",
    "print(y_test)\n",
    "print(y_pred)"
   ]
  },
  {
   "cell_type": "code",
   "execution_count": 805,
   "metadata": {},
   "outputs": [
    {
     "data": {
      "text/plain": [
       "['../model/quality_logistic_regression.model']"
      ]
     },
     "execution_count": 805,
     "metadata": {},
     "output_type": "execute_result"
    }
   ],
   "source": [
    "joblib.dump(lr_model,'../model/quality_logistic_regression.model')"
   ]
  },
  {
   "cell_type": "code",
   "execution_count": 806,
   "metadata": {},
   "outputs": [
    {
     "name": "stdout",
     "output_type": "stream",
     "text": [
      "[[ 0.66158139  0.33841861]]\n",
      "[0]\n"
     ]
    }
   ],
   "source": [
    "#装载模型，预测从这里开始\n",
    "lr_model = joblib.load('../model/quality_logistic_regression.model')\n",
    "y_pred_proba=lr_model.predict_proba([[12917.5, 267.5, 20, 0, 0.013483, 0.151389, 0.090909, 2018]])\n",
    "print(y_pred_proba)\n",
    "y_pred=lr_model.predict([[12917.5, 267.5, 20, 0, 0.013483, 0.151389, 0.090909, 2018]])\n",
    "print(y_pred)"
   ]
  },
  {
   "cell_type": "code",
   "execution_count": null,
   "metadata": {
    "collapsed": true
   },
   "outputs": [],
   "source": []
  },
  {
   "cell_type": "code",
   "execution_count": null,
   "metadata": {
    "collapsed": true
   },
   "outputs": [],
   "source": []
  },
  {
   "cell_type": "code",
   "execution_count": null,
   "metadata": {
    "collapsed": true
   },
   "outputs": [],
   "source": []
  }
 ],
 "metadata": {
  "kernelspec": {
   "display_name": "Python 3",
   "language": "python",
   "name": "python3"
  },
  "language_info": {
   "codemirror_mode": {
    "name": "ipython",
    "version": 3
   },
   "file_extension": ".py",
   "mimetype": "text/x-python",
   "name": "python",
   "nbconvert_exporter": "python",
   "pygments_lexer": "ipython3",
   "version": "3.6.2"
  }
 },
 "nbformat": 4,
 "nbformat_minor": 2
}
